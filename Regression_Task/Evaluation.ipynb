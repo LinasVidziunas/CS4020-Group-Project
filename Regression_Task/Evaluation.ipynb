{
 "cells": [
  {
   "attachments": {},
   "cell_type": "markdown",
   "metadata": {},
   "source": [
    "# Evaluating trained machine learning models"
   ]
  },
  {
   "attachments": {},
   "cell_type": "markdown",
   "metadata": {},
   "source": [
    "## Setup"
   ]
  },
  {
   "cell_type": "code",
   "execution_count": null,
   "metadata": {},
   "outputs": [],
   "source": [
    "import pathlib\n",
    "import pickle\n",
    "\n",
    "from sklearn.metrics import mean_squared_error, mean_absolute_error\n",
    "import pandas as pd"
   ]
  },
  {
   "attachments": {},
   "cell_type": "markdown",
   "metadata": {},
   "source": [
    "### Load test set"
   ]
  },
  {
   "cell_type": "code",
   "execution_count": null,
   "metadata": {},
   "outputs": [],
   "source": [
    "test = pd.read_parquet(pathlib.Path('../datasets/processed/test.parquet').absolute())\n",
    "\n",
    "input_features = ['DayOfWeek', 'DayofMonth', 'CRSDepTime', 'Airline', 'Distance', 'OriginCityName',\n",
    "                  'OriginState', 'DestCityName', 'Month', 'DestAirport', 'DestState', 'OriginAirport',\n",
    "                  'Year', 'CRSArrTime']\n",
    "\n",
    "x = test[input_features]\n",
    "y = test[['ArrDelay']]"
   ]
  },
  {
   "attachments": {},
   "cell_type": "markdown",
   "metadata": {},
   "source": [
    "### Load pretrained models"
   ]
  },
  {
   "cell_type": "code",
   "execution_count": null,
   "metadata": {},
   "outputs": [],
   "source": [
    "# Load the random forest model\n",
    "model_path: pathlib.Path = pathlib.Path('models/random_forest_regressor.pkl').absolute()\n",
    "with open(model_path, 'rb') as f:\n",
    "    rf = pickle.load(f)\n",
    "\n",
    "# Read the neural network model\n",
    "model_path: pathlib.Path = pathlib.Path('models/nn.pkl').absolute()\n",
    "with open(pathlib.Path(model_path), 'rb') as f:\n",
    "    nn = pickle.load(f)"
   ]
  },
  {
   "attachments": {},
   "cell_type": "markdown",
   "metadata": {},
   "source": [
    "## Evaluate Random Forest Model on the test set"
   ]
  },
  {
   "cell_type": "code",
   "execution_count": null,
   "metadata": {},
   "outputs": [],
   "source": [
    "rf_pred = rf.predict(x)\n",
    "print('MSE Random Forest: ', mean_squared_error(y, rf_pred))\n",
    "print('MAE Random Forest: ', mean_absolute_error(y, rf_pred))"
   ]
  },
  {
   "attachments": {},
   "cell_type": "markdown",
   "metadata": {},
   "source": [
    "## Evaludate NN on the test set"
   ]
  },
  {
   "cell_type": "code",
   "execution_count": null,
   "metadata": {},
   "outputs": [],
   "source": [
    "nn_pred = nn.predict(x)\n",
    "print('MSE NN: ', mean_squared_error(y, nn_pred))\n",
    "print('MAE NN: ', mean_absolute_error(y, nn_pred))"
   ]
  }
 ],
 "metadata": {
  "language_info": {
   "name": "python"
  },
  "orig_nbformat": 4
 },
 "nbformat": 4,
 "nbformat_minor": 2
}
