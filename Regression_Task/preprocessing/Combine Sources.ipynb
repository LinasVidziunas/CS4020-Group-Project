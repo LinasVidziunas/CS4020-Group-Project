{
 "cells": [
  {
   "attachments": {},
   "cell_type": "markdown",
   "metadata": {},
   "source": [
    "# Combine sources"
   ]
  },
  {
   "attachments": {},
   "cell_type": "markdown",
   "metadata": {},
   "source": [
    "## Setup"
   ]
  },
  {
   "cell_type": "code",
   "execution_count": 1,
   "metadata": {},
   "outputs": [],
   "source": [
    "import pathlib \n",
    "\n",
    "import pandas as pd\n",
    "import numpy as np"
   ]
  },
  {
   "attachments": {},
   "cell_type": "markdown",
   "metadata": {},
   "source": [
    "## Reading raw data"
   ]
  },
  {
   "attachments": {},
   "cell_type": "markdown",
   "metadata": {},
   "source": [
    "### 1st source (https://www.kaggle.com/datasets/robikscube/flight-delay-dataset-20182022)"
   ]
  },
  {
   "cell_type": "code",
   "execution_count": 2,
   "metadata": {},
   "outputs": [],
   "source": [
    "source_1_dir: pathlib.Path = pathlib.Path('../datasets/raw/source_1/')\n",
    "\n",
    "parquet_files: list[pathlib.Path] = list(source_1_dir.glob(\"Combined_Flights_[0-9]*.parquet\"))\n",
    "\n",
    "source_1_df: pd.DataFrame = pd.concat((pd.read_parquet(parquet_file) for parquet_file in parquet_files), ignore_index=True)"
   ]
  },
  {
   "attachments": {},
   "cell_type": "markdown",
   "metadata": {},
   "source": [
    "#### Cleaning"
   ]
  },
  {
   "attachments": {},
   "cell_type": "markdown",
   "metadata": {},
   "source": [
    "City name is in the format \"city,state\", we remove the state part because it is given by another column."
   ]
  },
  {
   "cell_type": "code",
   "execution_count": 3,
   "metadata": {},
   "outputs": [],
   "source": [
    "source_1_df['DestCityName'] = source_1_df['DestCityName'].apply(lambda x: x.split(',')[0])\n",
    "source_1_df['OriginCityName'] = source_1_df['OriginCityName'].apply(lambda x: x.split(',')[0])"
   ]
  },
  {
   "attachments": {},
   "cell_type": "markdown",
   "metadata": {},
   "source": [
    "### Join with additional airport information\n",
    "Since the airport code assigned by IATA can change over time and can be reused, we use the AirportID codes assigned by US DOT to aquire airport names.\n",
    "\n",
    "Source: https://www.transtats.bts.gov/Fields.asp?gnoyr_VQ=GED"
   ]
  },
  {
   "cell_type": "code",
   "execution_count": 4,
   "metadata": {},
   "outputs": [],
   "source": [
    "source_1_airports: pd.DataFrame = pd.read_csv(source_1_dir / 'L_AIRPORT_ID.csv').set_index('Code')"
   ]
  },
  {
   "cell_type": "code",
   "execution_count": 5,
   "metadata": {},
   "outputs": [],
   "source": [
    "source_1_df['OriginAirport'] = source_1_df['OriginAirportID'].map(source_1_airports['Description'].apply(lambda x: x.split(':')[-1]))\n",
    "source_1_df['DestAirport'] = source_1_df['DestAirportID'].map(source_1_airports['Description'].apply(lambda x: x.split(':')[-1]))"
   ]
  },
  {
   "attachments": {},
   "cell_type": "markdown",
   "metadata": {},
   "source": [
    "### 2nd source (https://community.amstat.org/jointscsg-section/dataexpo/dataexpo2009)\n"
   ]
  },
  {
   "cell_type": "code",
   "execution_count": 6,
   "metadata": {},
   "outputs": [
    {
     "name": "stderr",
     "output_type": "stream",
     "text": [
      "/var/folders/c9/24l9wbvn7_l_zt25742x5qf40000gn/T/ipykernel_15366/3230565564.py:5: DtypeWarning: Columns (22) have mixed types. Specify dtype option on import or set low_memory=False.\n",
      "  source_2_df: pd.DataFrame = pd.concat((pd.read_csv(csv_file, encoding='latin-1') for csv_file in csv_files), ignore_index=True)\n"
     ]
    }
   ],
   "source": [
    "source_2_dir: pathlib.Path = pathlib.Path('../datasets/raw/source_2/')\n",
    "\n",
    "csv_files: list[pathlib.Path] = list(source_2_dir.glob(\"[0-9]*.csv\"))\n",
    "\n",
    "source_2_df: pd.DataFrame = pd.concat((pd.read_csv(csv_file, encoding='latin-1') for csv_file in csv_files), ignore_index=True)"
   ]
  },
  {
   "attachments": {},
   "cell_type": "markdown",
   "metadata": {},
   "source": [
    "#### Joining with airport information"
   ]
  },
  {
   "cell_type": "code",
   "execution_count": 7,
   "metadata": {},
   "outputs": [],
   "source": [
    "source_2_airports_df: pd.DataFrame = pd.read_csv(source_2_dir / 'airports.csv', encoding='latin-1')\n",
    "source_2_df = source_2_df.merge(source_2_airports_df[['iata', 'airport', 'city', 'state']], left_on='Origin', right_on='iata', how='left', suffixes=('', '_origin'))\n",
    "source_2_df = source_2_df.rename({\n",
    "    'iata': 'OriginIata', \n",
    "    'airport': 'OriginAirport', \n",
    "    'city': 'OriginCityName', \n",
    "    'state': 'OriginState'}, axis=1)\n",
    "source_2_df = source_2_df.merge(source_2_airports_df[['iata', 'airport', 'city', 'state']], left_on='Dest', right_on='iata', how='left', suffixes=('', '_dest'))\n",
    "source_2_df = source_2_df.rename({\n",
    "    'iata': 'DestIata',\n",
    "    'airport': 'DestAirport',\n",
    "    'city': 'DestCityName',\n",
    "    'state': 'DestState'}, axis=1)"
   ]
  },
  {
   "attachments": {},
   "cell_type": "markdown",
   "metadata": {},
   "source": [
    "### Joining with airline information"
   ]
  },
  {
   "cell_type": "code",
   "execution_count": 8,
   "metadata": {},
   "outputs": [],
   "source": [
    "source_2_carriers_df: pd.DataFrame = pd.read_csv(source_2_dir / 'carriers.csv', encoding='latin-1')\n",
    "source_2_carriers_df.set_index('Code', inplace=True)\n",
    "\n",
    "source_2_df['Airline'] = source_2_df['UniqueCarrier'].apply(lambda x: source_2_carriers_df.loc[x, 'Description'])"
   ]
  },
  {
   "attachments": {},
   "cell_type": "markdown",
   "metadata": {},
   "source": [
    "#### Renaming features to match the first source"
   ]
  },
  {
   "cell_type": "code",
   "execution_count": 9,
   "metadata": {},
   "outputs": [],
   "source": [
    "source_2_df.rename({'TailNum': 'Tail_Number'}, axis=1, inplace=True)"
   ]
  },
  {
   "attachments": {},
   "cell_type": "markdown",
   "metadata": {},
   "source": [
    "## Features unique to sources\n",
    "The following features are unique to the sources, and therefore will not be in the final dataset."
   ]
  },
  {
   "cell_type": "code",
   "execution_count": 10,
   "metadata": {},
   "outputs": [
    {
     "name": "stdout",
     "output_type": "stream",
     "text": [
      "Flight_Number_Operating_Airline\n",
      "IATA_Code_Marketing_Airline\n",
      "WheelsOff\n",
      "FlightNum\n",
      "DestAirportID\n",
      "OriginWac\n",
      "DestAirportSeqID\n",
      "DOT_ID_Operating_Airline\n",
      "DestStateFips\n",
      "OriginStateFips\n",
      "WheelsOn\n",
      "ArrivalDelayGroups\n",
      "UniqueCarrier\n",
      "ArrTimeBlk\n",
      "DestWac\n",
      "OriginStateName\n",
      "DestIata\n",
      "CancellationCode\n",
      "OriginAirportID\n",
      "CarrierDelay\n",
      "Marketing_Airline_Network\n",
      "DivAirportLandings\n",
      "FlightDate\n",
      "SecurityDelay\n",
      "OriginIata\n",
      "DepTimeBlk\n",
      "DOT_ID_Marketing_Airline\n",
      "Flight_Number_Marketing_Airline\n",
      "DepDelayMinutes\n",
      "LateAircraftDelay\n",
      "DepartureDelayGroups\n",
      "OriginAirportSeqID\n",
      "DistanceGroup\n",
      "DestCityMarketID\n",
      "Operated_or_Branded_Code_Share_Partners\n",
      "DepDel15\n",
      "ArrDelayMinutes\n",
      "NASDelay\n",
      "Operating_Airline\n",
      "WeatherDelay\n",
      "Quarter\n",
      "OriginCityMarketID\n",
      "IATA_Code_Operating_Airline\n",
      "ArrDel15\n",
      "DestStateName\n"
     ]
    }
   ],
   "source": [
    "non_overlapping_features: set[str] = set(source_1_df.columns) ^ set(source_2_df.columns)\n",
    "print(\"\\n\".join(non_overlapping_features))"
   ]
  },
  {
   "attachments": {},
   "cell_type": "markdown",
   "metadata": {},
   "source": [
    "## Features present in both sources"
   ]
  },
  {
   "cell_type": "code",
   "execution_count": 11,
   "metadata": {},
   "outputs": [
    {
     "name": "stdout",
     "output_type": "stream",
     "text": [
      "DayOfWeek\n",
      "DepDelay\n",
      "DepTime\n",
      "TaxiIn\n",
      "Origin\n",
      "AirTime\n",
      "DayofMonth\n",
      "CRSDepTime\n",
      "ArrTime\n",
      "Diverted\n",
      "Airline\n",
      "Distance\n",
      "Tail_Number\n",
      "Cancelled\n",
      "ActualElapsedTime\n",
      "OriginCityName\n",
      "OriginState\n",
      "CRSElapsedTime\n",
      "DestCityName\n",
      "Month\n",
      "ArrDelay\n",
      "DestAirport\n",
      "DestState\n",
      "TaxiOut\n",
      "Dest\n",
      "OriginAirport\n",
      "Year\n",
      "CRSArrTime\n"
     ]
    }
   ],
   "source": [
    "overlapping_features: set[str] = set(source_1_df.columns) & set(source_2_df.columns)\n",
    "print(\"\\n\".join(overlapping_features))"
   ]
  },
  {
   "attachments": {},
   "cell_type": "markdown",
   "metadata": {},
   "source": [
    "## Combining sources"
   ]
  },
  {
   "cell_type": "code",
   "execution_count": 12,
   "metadata": {},
   "outputs": [
    {
     "data": {
      "text/html": [
       "<div>\n",
       "<style scoped>\n",
       "    .dataframe tbody tr th:only-of-type {\n",
       "        vertical-align: middle;\n",
       "    }\n",
       "\n",
       "    .dataframe tbody tr th {\n",
       "        vertical-align: top;\n",
       "    }\n",
       "\n",
       "    .dataframe thead th {\n",
       "        text-align: right;\n",
       "    }\n",
       "</style>\n",
       "<table border=\"1\" class=\"dataframe\">\n",
       "  <thead>\n",
       "    <tr style=\"text-align: right;\">\n",
       "      <th></th>\n",
       "      <th>DayOfWeek</th>\n",
       "      <th>DepDelay</th>\n",
       "      <th>DepTime</th>\n",
       "      <th>TaxiIn</th>\n",
       "      <th>Origin</th>\n",
       "      <th>AirTime</th>\n",
       "      <th>DayofMonth</th>\n",
       "      <th>CRSDepTime</th>\n",
       "      <th>ArrTime</th>\n",
       "      <th>Diverted</th>\n",
       "      <th>...</th>\n",
       "      <th>DestCityName</th>\n",
       "      <th>Month</th>\n",
       "      <th>ArrDelay</th>\n",
       "      <th>DestAirport</th>\n",
       "      <th>DestState</th>\n",
       "      <th>TaxiOut</th>\n",
       "      <th>Dest</th>\n",
       "      <th>OriginAirport</th>\n",
       "      <th>Year</th>\n",
       "      <th>CRSArrTime</th>\n",
       "    </tr>\n",
       "  </thead>\n",
       "  <tbody>\n",
       "    <tr>\n",
       "      <th>0</th>\n",
       "      <td>2</td>\n",
       "      <td>-5.0</td>\n",
       "      <td>1157.0</td>\n",
       "      <td>7.0</td>\n",
       "      <td>ABY</td>\n",
       "      <td>38.0</td>\n",
       "      <td>23</td>\n",
       "      <td>1202</td>\n",
       "      <td>1256.0</td>\n",
       "      <td>False</td>\n",
       "      <td>...</td>\n",
       "      <td>Atlanta</td>\n",
       "      <td>1</td>\n",
       "      <td>-8.0</td>\n",
       "      <td>Hartsfield-Jackson Atlanta International</td>\n",
       "      <td>GA</td>\n",
       "      <td>14.0</td>\n",
       "      <td>ATL</td>\n",
       "      <td>Southwest Georgia Regional</td>\n",
       "      <td>2018</td>\n",
       "      <td>1304</td>\n",
       "    </tr>\n",
       "    <tr>\n",
       "      <th>1</th>\n",
       "      <td>3</td>\n",
       "      <td>-5.0</td>\n",
       "      <td>1157.0</td>\n",
       "      <td>12.0</td>\n",
       "      <td>ABY</td>\n",
       "      <td>36.0</td>\n",
       "      <td>24</td>\n",
       "      <td>1202</td>\n",
       "      <td>1258.0</td>\n",
       "      <td>False</td>\n",
       "      <td>...</td>\n",
       "      <td>Atlanta</td>\n",
       "      <td>1</td>\n",
       "      <td>-6.0</td>\n",
       "      <td>Hartsfield-Jackson Atlanta International</td>\n",
       "      <td>GA</td>\n",
       "      <td>13.0</td>\n",
       "      <td>ATL</td>\n",
       "      <td>Southwest Georgia Regional</td>\n",
       "      <td>2018</td>\n",
       "      <td>1304</td>\n",
       "    </tr>\n",
       "    <tr>\n",
       "      <th>2</th>\n",
       "      <td>4</td>\n",
       "      <td>-9.0</td>\n",
       "      <td>1153.0</td>\n",
       "      <td>11.0</td>\n",
       "      <td>ABY</td>\n",
       "      <td>40.0</td>\n",
       "      <td>25</td>\n",
       "      <td>1202</td>\n",
       "      <td>1302.0</td>\n",
       "      <td>False</td>\n",
       "      <td>...</td>\n",
       "      <td>Atlanta</td>\n",
       "      <td>1</td>\n",
       "      <td>-2.0</td>\n",
       "      <td>Hartsfield-Jackson Atlanta International</td>\n",
       "      <td>GA</td>\n",
       "      <td>18.0</td>\n",
       "      <td>ATL</td>\n",
       "      <td>Southwest Georgia Regional</td>\n",
       "      <td>2018</td>\n",
       "      <td>1304</td>\n",
       "    </tr>\n",
       "    <tr>\n",
       "      <th>3</th>\n",
       "      <td>5</td>\n",
       "      <td>-12.0</td>\n",
       "      <td>1150.0</td>\n",
       "      <td>11.0</td>\n",
       "      <td>ABY</td>\n",
       "      <td>35.0</td>\n",
       "      <td>26</td>\n",
       "      <td>1202</td>\n",
       "      <td>1253.0</td>\n",
       "      <td>False</td>\n",
       "      <td>...</td>\n",
       "      <td>Atlanta</td>\n",
       "      <td>1</td>\n",
       "      <td>-11.0</td>\n",
       "      <td>Hartsfield-Jackson Atlanta International</td>\n",
       "      <td>GA</td>\n",
       "      <td>17.0</td>\n",
       "      <td>ATL</td>\n",
       "      <td>Southwest Georgia Regional</td>\n",
       "      <td>2018</td>\n",
       "      <td>1304</td>\n",
       "    </tr>\n",
       "    <tr>\n",
       "      <th>4</th>\n",
       "      <td>6</td>\n",
       "      <td>-5.0</td>\n",
       "      <td>1355.0</td>\n",
       "      <td>11.0</td>\n",
       "      <td>ABY</td>\n",
       "      <td>36.0</td>\n",
       "      <td>27</td>\n",
       "      <td>1400</td>\n",
       "      <td>1459.0</td>\n",
       "      <td>False</td>\n",
       "      <td>...</td>\n",
       "      <td>Atlanta</td>\n",
       "      <td>1</td>\n",
       "      <td>-1.0</td>\n",
       "      <td>Hartsfield-Jackson Atlanta International</td>\n",
       "      <td>GA</td>\n",
       "      <td>17.0</td>\n",
       "      <td>ATL</td>\n",
       "      <td>Southwest Georgia Regional</td>\n",
       "      <td>2018</td>\n",
       "      <td>1500</td>\n",
       "    </tr>\n",
       "    <tr>\n",
       "      <th>...</th>\n",
       "      <td>...</td>\n",
       "      <td>...</td>\n",
       "      <td>...</td>\n",
       "      <td>...</td>\n",
       "      <td>...</td>\n",
       "      <td>...</td>\n",
       "      <td>...</td>\n",
       "      <td>...</td>\n",
       "      <td>...</td>\n",
       "      <td>...</td>\n",
       "      <td>...</td>\n",
       "      <td>...</td>\n",
       "      <td>...</td>\n",
       "      <td>...</td>\n",
       "      <td>...</td>\n",
       "      <td>...</td>\n",
       "      <td>...</td>\n",
       "      <td>...</td>\n",
       "      <td>...</td>\n",
       "      <td>...</td>\n",
       "      <td>...</td>\n",
       "    </tr>\n",
       "    <tr>\n",
       "      <th>148108235</th>\n",
       "      <td>2</td>\n",
       "      <td>60.0</td>\n",
       "      <td>1858.0</td>\n",
       "      <td>NaN</td>\n",
       "      <td>CVG</td>\n",
       "      <td>NaN</td>\n",
       "      <td>12</td>\n",
       "      <td>1758</td>\n",
       "      <td>2035.0</td>\n",
       "      <td>0</td>\n",
       "      <td>...</td>\n",
       "      <td>Philadelphia</td>\n",
       "      <td>12</td>\n",
       "      <td>63.0</td>\n",
       "      <td>Philadelphia Intl</td>\n",
       "      <td>PA</td>\n",
       "      <td>NaN</td>\n",
       "      <td>PHL</td>\n",
       "      <td>Cincinnati Northern Kentucky Intl</td>\n",
       "      <td>1989</td>\n",
       "      <td>1932</td>\n",
       "    </tr>\n",
       "    <tr>\n",
       "      <th>148108236</th>\n",
       "      <td>3</td>\n",
       "      <td>9.0</td>\n",
       "      <td>1807.0</td>\n",
       "      <td>NaN</td>\n",
       "      <td>CVG</td>\n",
       "      <td>NaN</td>\n",
       "      <td>13</td>\n",
       "      <td>1758</td>\n",
       "      <td>1945.0</td>\n",
       "      <td>0</td>\n",
       "      <td>...</td>\n",
       "      <td>Philadelphia</td>\n",
       "      <td>12</td>\n",
       "      <td>13.0</td>\n",
       "      <td>Philadelphia Intl</td>\n",
       "      <td>PA</td>\n",
       "      <td>NaN</td>\n",
       "      <td>PHL</td>\n",
       "      <td>Cincinnati Northern Kentucky Intl</td>\n",
       "      <td>1989</td>\n",
       "      <td>1932</td>\n",
       "    </tr>\n",
       "    <tr>\n",
       "      <th>148108237</th>\n",
       "      <td>4</td>\n",
       "      <td>0.0</td>\n",
       "      <td>1758.0</td>\n",
       "      <td>NaN</td>\n",
       "      <td>CVG</td>\n",
       "      <td>NaN</td>\n",
       "      <td>14</td>\n",
       "      <td>1758</td>\n",
       "      <td>1923.0</td>\n",
       "      <td>0</td>\n",
       "      <td>...</td>\n",
       "      <td>Philadelphia</td>\n",
       "      <td>12</td>\n",
       "      <td>-9.0</td>\n",
       "      <td>Philadelphia Intl</td>\n",
       "      <td>PA</td>\n",
       "      <td>NaN</td>\n",
       "      <td>PHL</td>\n",
       "      <td>Cincinnati Northern Kentucky Intl</td>\n",
       "      <td>1989</td>\n",
       "      <td>1932</td>\n",
       "    </tr>\n",
       "    <tr>\n",
       "      <th>148108238</th>\n",
       "      <td>5</td>\n",
       "      <td>10.0</td>\n",
       "      <td>1810.0</td>\n",
       "      <td>NaN</td>\n",
       "      <td>CVG</td>\n",
       "      <td>NaN</td>\n",
       "      <td>15</td>\n",
       "      <td>1800</td>\n",
       "      <td>1937.0</td>\n",
       "      <td>0</td>\n",
       "      <td>...</td>\n",
       "      <td>Philadelphia</td>\n",
       "      <td>12</td>\n",
       "      <td>7.0</td>\n",
       "      <td>Philadelphia Intl</td>\n",
       "      <td>PA</td>\n",
       "      <td>NaN</td>\n",
       "      <td>PHL</td>\n",
       "      <td>Cincinnati Northern Kentucky Intl</td>\n",
       "      <td>1989</td>\n",
       "      <td>1930</td>\n",
       "    </tr>\n",
       "    <tr>\n",
       "      <th>148108239</th>\n",
       "      <td>7</td>\n",
       "      <td>0.0</td>\n",
       "      <td>1800.0</td>\n",
       "      <td>NaN</td>\n",
       "      <td>CVG</td>\n",
       "      <td>NaN</td>\n",
       "      <td>17</td>\n",
       "      <td>1800</td>\n",
       "      <td>1926.0</td>\n",
       "      <td>0</td>\n",
       "      <td>...</td>\n",
       "      <td>Philadelphia</td>\n",
       "      <td>12</td>\n",
       "      <td>-4.0</td>\n",
       "      <td>Philadelphia Intl</td>\n",
       "      <td>PA</td>\n",
       "      <td>NaN</td>\n",
       "      <td>PHL</td>\n",
       "      <td>Cincinnati Northern Kentucky Intl</td>\n",
       "      <td>1989</td>\n",
       "      <td>1930</td>\n",
       "    </tr>\n",
       "  </tbody>\n",
       "</table>\n",
       "<p>148108240 rows × 28 columns</p>\n",
       "</div>"
      ],
      "text/plain": [
       "           DayOfWeek  DepDelay  DepTime  TaxiIn Origin  AirTime  DayofMonth  \\\n",
       "0                  2      -5.0   1157.0     7.0    ABY     38.0          23   \n",
       "1                  3      -5.0   1157.0    12.0    ABY     36.0          24   \n",
       "2                  4      -9.0   1153.0    11.0    ABY     40.0          25   \n",
       "3                  5     -12.0   1150.0    11.0    ABY     35.0          26   \n",
       "4                  6      -5.0   1355.0    11.0    ABY     36.0          27   \n",
       "...              ...       ...      ...     ...    ...      ...         ...   \n",
       "148108235          2      60.0   1858.0     NaN    CVG      NaN          12   \n",
       "148108236          3       9.0   1807.0     NaN    CVG      NaN          13   \n",
       "148108237          4       0.0   1758.0     NaN    CVG      NaN          14   \n",
       "148108238          5      10.0   1810.0     NaN    CVG      NaN          15   \n",
       "148108239          7       0.0   1800.0     NaN    CVG      NaN          17   \n",
       "\n",
       "           CRSDepTime  ArrTime Diverted  ...  DestCityName  Month ArrDelay  \\\n",
       "0                1202   1256.0    False  ...       Atlanta      1     -8.0   \n",
       "1                1202   1258.0    False  ...       Atlanta      1     -6.0   \n",
       "2                1202   1302.0    False  ...       Atlanta      1     -2.0   \n",
       "3                1202   1253.0    False  ...       Atlanta      1    -11.0   \n",
       "4                1400   1459.0    False  ...       Atlanta      1     -1.0   \n",
       "...               ...      ...      ...  ...           ...    ...      ...   \n",
       "148108235        1758   2035.0        0  ...  Philadelphia     12     63.0   \n",
       "148108236        1758   1945.0        0  ...  Philadelphia     12     13.0   \n",
       "148108237        1758   1923.0        0  ...  Philadelphia     12     -9.0   \n",
       "148108238        1800   1937.0        0  ...  Philadelphia     12      7.0   \n",
       "148108239        1800   1926.0        0  ...  Philadelphia     12     -4.0   \n",
       "\n",
       "                                         DestAirport  DestState TaxiOut Dest  \\\n",
       "0           Hartsfield-Jackson Atlanta International         GA    14.0  ATL   \n",
       "1           Hartsfield-Jackson Atlanta International         GA    13.0  ATL   \n",
       "2           Hartsfield-Jackson Atlanta International         GA    18.0  ATL   \n",
       "3           Hartsfield-Jackson Atlanta International         GA    17.0  ATL   \n",
       "4           Hartsfield-Jackson Atlanta International         GA    17.0  ATL   \n",
       "...                                              ...        ...     ...  ...   \n",
       "148108235                          Philadelphia Intl         PA     NaN  PHL   \n",
       "148108236                          Philadelphia Intl         PA     NaN  PHL   \n",
       "148108237                          Philadelphia Intl         PA     NaN  PHL   \n",
       "148108238                          Philadelphia Intl         PA     NaN  PHL   \n",
       "148108239                          Philadelphia Intl         PA     NaN  PHL   \n",
       "\n",
       "                               OriginAirport  Year  CRSArrTime  \n",
       "0                 Southwest Georgia Regional  2018        1304  \n",
       "1                 Southwest Georgia Regional  2018        1304  \n",
       "2                 Southwest Georgia Regional  2018        1304  \n",
       "3                 Southwest Georgia Regional  2018        1304  \n",
       "4                 Southwest Georgia Regional  2018        1500  \n",
       "...                                      ...   ...         ...  \n",
       "148108235  Cincinnati Northern Kentucky Intl  1989        1932  \n",
       "148108236  Cincinnati Northern Kentucky Intl  1989        1932  \n",
       "148108237  Cincinnati Northern Kentucky Intl  1989        1932  \n",
       "148108238  Cincinnati Northern Kentucky Intl  1989        1930  \n",
       "148108239  Cincinnati Northern Kentucky Intl  1989        1930  \n",
       "\n",
       "[148108240 rows x 28 columns]"
      ]
     },
     "execution_count": 12,
     "metadata": {},
     "output_type": "execute_result"
    }
   ],
   "source": [
    "data_df: pd.DataFrame = pd.concat([source_1_df[list(overlapping_features)], source_2_df[list(overlapping_features)]], ignore_index=True)\n",
    "\n",
    "data_df"
   ]
  },
  {
   "attachments": {},
   "cell_type": "markdown",
   "metadata": {},
   "source": [
    "## Convert column types"
   ]
  },
  {
   "cell_type": "code",
   "execution_count": 13,
   "metadata": {},
   "outputs": [
    {
     "name": "stdout",
     "output_type": "stream",
     "text": [
      "<class 'pandas.core.frame.DataFrame'>\n",
      "RangeIndex: 148108240 entries, 0 to 148108239\n",
      "Data columns (total 28 columns):\n",
      " #   Column             Dtype  \n",
      "---  ------             -----  \n",
      " 0   DayOfWeek          int64  \n",
      " 1   DepDelay           float64\n",
      " 2   DepTime            float64\n",
      " 3   TaxiIn             float64\n",
      " 4   Origin             object \n",
      " 5   AirTime            float64\n",
      " 6   DayofMonth         int64  \n",
      " 7   CRSDepTime         int64  \n",
      " 8   ArrTime            float64\n",
      " 9   Diverted           object \n",
      " 10  Airline            object \n",
      " 11  Distance           float64\n",
      " 12  Tail_Number        object \n",
      " 13  Cancelled          object \n",
      " 14  ActualElapsedTime  float64\n",
      " 15  OriginCityName     object \n",
      " 16  OriginState        object \n",
      " 17  CRSElapsedTime     float64\n",
      " 18  DestCityName       object \n",
      " 19  Month              int64  \n",
      " 20  ArrDelay           float64\n",
      " 21  DestAirport        object \n",
      " 22  DestState          object \n",
      " 23  TaxiOut            float64\n",
      " 24  Dest               object \n",
      " 25  OriginAirport      object \n",
      " 26  Year               int64  \n",
      " 27  CRSArrTime         int64  \n",
      "dtypes: float64(10), int64(6), object(12)\n",
      "memory usage: 30.9+ GB\n"
     ]
    }
   ],
   "source": [
    "data_df.info()"
   ]
  },
  {
   "attachments": {},
   "cell_type": "markdown",
   "metadata": {},
   "source": [
    "### Boolean columns"
   ]
  },
  {
   "attachments": {},
   "cell_type": "markdown",
   "metadata": {},
   "source": [
    "We suspect that the columns Diverted and Cancelled only contain boolean values.\n",
    "We confirm it by using `value_counts()` and convert them to boolean type."
   ]
  },
  {
   "cell_type": "code",
   "execution_count": 14,
   "metadata": {},
   "outputs": [
    {
     "data": {
      "text/plain": [
       "False    147767298\n",
       "True        340942\n",
       "Name: Diverted, dtype: int64"
      ]
     },
     "execution_count": 14,
     "metadata": {},
     "output_type": "execute_result"
    }
   ],
   "source": [
    "data_df['Diverted'].value_counts()"
   ]
  },
  {
   "cell_type": "code",
   "execution_count": 15,
   "metadata": {},
   "outputs": [
    {
     "data": {
      "text/plain": [
       "False    145100641\n",
       "True       3007599\n",
       "Name: Cancelled, dtype: int64"
      ]
     },
     "execution_count": 15,
     "metadata": {},
     "output_type": "execute_result"
    }
   ],
   "source": [
    "data_df['Cancelled'].value_counts()"
   ]
  },
  {
   "cell_type": "code",
   "execution_count": 16,
   "metadata": {},
   "outputs": [],
   "source": [
    "boolean_columns: list[str] = ['Diverted', 'Cancelled']\n",
    "\n",
    "for column in boolean_columns:\n",
    "    data_df[column] = data_df[column].astype(\"bool\")"
   ]
  },
  {
   "cell_type": "code",
   "execution_count": 17,
   "metadata": {},
   "outputs": [
    {
     "name": "stdout",
     "output_type": "stream",
     "text": [
      "<class 'pandas.core.frame.DataFrame'>\n",
      "RangeIndex: 148108240 entries, 0 to 148108239\n",
      "Data columns (total 28 columns):\n",
      " #   Column             Dtype  \n",
      "---  ------             -----  \n",
      " 0   DayOfWeek          int64  \n",
      " 1   DepDelay           float64\n",
      " 2   DepTime            float64\n",
      " 3   TaxiIn             float64\n",
      " 4   Origin             object \n",
      " 5   AirTime            float64\n",
      " 6   DayofMonth         int64  \n",
      " 7   CRSDepTime         int64  \n",
      " 8   ArrTime            float64\n",
      " 9   Diverted           bool   \n",
      " 10  Airline            object \n",
      " 11  Distance           float64\n",
      " 12  Tail_Number        object \n",
      " 13  Cancelled          bool   \n",
      " 14  ActualElapsedTime  float64\n",
      " 15  OriginCityName     object \n",
      " 16  OriginState        object \n",
      " 17  CRSElapsedTime     float64\n",
      " 18  DestCityName       object \n",
      " 19  Month              int64  \n",
      " 20  ArrDelay           float64\n",
      " 21  DestAirport        object \n",
      " 22  DestState          object \n",
      " 23  TaxiOut            float64\n",
      " 24  Dest               object \n",
      " 25  OriginAirport      object \n",
      " 26  Year               int64  \n",
      " 27  CRSArrTime         int64  \n",
      "dtypes: bool(2), float64(10), int64(6), object(10)\n",
      "memory usage: 29.0+ GB\n"
     ]
    }
   ],
   "source": [
    "data_df.info()"
   ]
  },
  {
   "attachments": {},
   "cell_type": "markdown",
   "metadata": {},
   "source": [
    "### Categorical columns"
   ]
  },
  {
   "cell_type": "code",
   "execution_count": 18,
   "metadata": {},
   "outputs": [],
   "source": [
    "categorical_columns: list[str] = ['DayOfWeek', 'OriginCityName', 'OriginState', 'OriginAirport',\n",
    "                                  'DestState', 'Tail_Number', 'Dest', 'DayofMonth', 'DestAirport',\n",
    "                                  'Airline', 'DestCityName', 'Origin', 'Year', 'Month']\n",
    "                                \n",
    "for column in categorical_columns:\n",
    "    data_df[column] = data_df[column].astype(\"category\")"
   ]
  },
  {
   "cell_type": "code",
   "execution_count": 19,
   "metadata": {},
   "outputs": [
    {
     "name": "stdout",
     "output_type": "stream",
     "text": [
      "<class 'pandas.core.frame.DataFrame'>\n",
      "RangeIndex: 148108240 entries, 0 to 148108239\n",
      "Data columns (total 28 columns):\n",
      " #   Column             Dtype   \n",
      "---  ------             -----   \n",
      " 0   DayOfWeek          category\n",
      " 1   DepDelay           float64 \n",
      " 2   DepTime            float64 \n",
      " 3   TaxiIn             float64 \n",
      " 4   Origin             category\n",
      " 5   AirTime            float64 \n",
      " 6   DayofMonth         category\n",
      " 7   CRSDepTime         int64   \n",
      " 8   ArrTime            float64 \n",
      " 9   Diverted           bool    \n",
      " 10  Airline            category\n",
      " 11  Distance           float64 \n",
      " 12  Tail_Number        category\n",
      " 13  Cancelled          bool    \n",
      " 14  ActualElapsedTime  float64 \n",
      " 15  OriginCityName     category\n",
      " 16  OriginState        category\n",
      " 17  CRSElapsedTime     float64 \n",
      " 18  DestCityName       category\n",
      " 19  Month              category\n",
      " 20  ArrDelay           float64 \n",
      " 21  DestAirport        category\n",
      " 22  DestState          category\n",
      " 23  TaxiOut            float64 \n",
      " 24  Dest               category\n",
      " 25  OriginAirport      category\n",
      " 26  Year               category\n",
      " 27  CRSArrTime         int64   \n",
      "dtypes: bool(2), category(14), float64(10), int64(2)\n",
      "memory usage: 16.4 GB\n"
     ]
    }
   ],
   "source": [
    "data_df.info()"
   ]
  },
  {
   "attachments": {},
   "cell_type": "markdown",
   "metadata": {},
   "source": [
    "## Save the combined dataset"
   ]
  },
  {
   "cell_type": "code",
   "execution_count": 20,
   "metadata": {},
   "outputs": [
    {
     "ename": "",
     "evalue": "",
     "output_type": "error",
     "traceback": [
      "\u001b[1;31mThe Kernel crashed while executing code in the the current cell or a previous cell. Please review the code in the cell(s) to identify a possible cause of the failure. Click <a href='https://aka.ms/vscodeJupyterKernelCrash'>here</a> for more info. View Jupyter <a href='command:jupyter.viewOutput'>log</a> for further details."
     ]
    }
   ],
   "source": [
    "data_df.to_parquet('../datasets/raw/combined.parquet')"
   ]
  }
 ],
 "metadata": {
  "kernelspec": {
   "display_name": "CS4020",
   "language": "python",
   "name": "python3"
  },
  "language_info": {
   "codemirror_mode": {
    "name": "ipython",
    "version": 3
   },
   "file_extension": ".py",
   "mimetype": "text/x-python",
   "name": "python",
   "nbconvert_exporter": "python",
   "pygments_lexer": "ipython3",
   "version": "3.9.15"
  },
  "orig_nbformat": 4
 },
 "nbformat": 4,
 "nbformat_minor": 2
}
