{
 "cells": [
  {
   "attachments": {},
   "cell_type": "markdown",
   "metadata": {},
   "source": [
    "# Combine sources"
   ]
  },
  {
   "attachments": {},
   "cell_type": "markdown",
   "metadata": {},
   "source": [
    "## Setup"
   ]
  },
  {
   "cell_type": "code",
   "execution_count": 1,
   "metadata": {},
   "outputs": [],
   "source": [
    "import pathlib \n",
    "\n",
    "import pandas as pd\n",
    "import numpy as np"
   ]
  },
  {
   "attachments": {},
   "cell_type": "markdown",
   "metadata": {},
   "source": [
    "## Reading raw data"
   ]
  },
  {
   "attachments": {},
   "cell_type": "markdown",
   "metadata": {},
   "source": [
    "### 1st source (https://www.kaggle.com/datasets/robikscube/flight-delay-dataset-20182022)"
   ]
  },
  {
   "cell_type": "code",
   "execution_count": 2,
   "metadata": {},
   "outputs": [],
   "source": [
    "source_1_dir: pathlib.Path = pathlib.Path('../datasets/raw/source_1/')\n",
    "\n",
    "parquet_files: list[pathlib.Path] = list(source_1_dir.glob(\"Combined_Flights_[0-9]*.parquet\"))\n",
    "\n",
    "source_1_df: pd.DataFrame = pd.concat((pd.read_parquet(parquet_file) for parquet_file in parquet_files), ignore_index=True)"
   ]
  },
  {
   "attachments": {},
   "cell_type": "markdown",
   "metadata": {},
   "source": [
    "#### Cleaning"
   ]
  },
  {
   "attachments": {},
   "cell_type": "markdown",
   "metadata": {},
   "source": [
    "City name is in the format \"city,state\", we remove the state part because it is given by another feature."
   ]
  },
  {
   "cell_type": "code",
   "execution_count": 3,
   "metadata": {},
   "outputs": [],
   "source": [
    "source_1_df['DestCityName'] = source_1_df['DestCityName'].apply(lambda x: x.split(',')[0])\n",
    "source_1_df['OriginCityName'] = source_1_df['OriginCityName'].apply(lambda x: x.split(',')[0])"
   ]
  },
  {
   "attachments": {},
   "cell_type": "markdown",
   "metadata": {},
   "source": [
    "### 2nd source (https://community.amstat.org/jointscsg-section/dataexpo/dataexpo2009)\n"
   ]
  },
  {
   "cell_type": "code",
   "execution_count": 4,
   "metadata": {},
   "outputs": [
    {
     "name": "stderr",
     "output_type": "stream",
     "text": [
      "/var/folders/c9/24l9wbvn7_l_zt25742x5qf40000gn/T/ipykernel_6114/3230565564.py:5: DtypeWarning: Columns (22) have mixed types. Specify dtype option on import or set low_memory=False.\n",
      "  source_2_df: pd.DataFrame = pd.concat((pd.read_csv(csv_file, encoding='latin-1') for csv_file in csv_files), ignore_index=True)\n"
     ]
    }
   ],
   "source": [
    "source_2_dir: pathlib.Path = pathlib.Path('../datasets/raw/source_2/')\n",
    "\n",
    "csv_files: list[pathlib.Path] = list(source_2_dir.glob(\"[0-9]*.csv\"))\n",
    "\n",
    "source_2_df: pd.DataFrame = pd.concat((pd.read_csv(csv_file, encoding='latin-1') for csv_file in csv_files), ignore_index=True)"
   ]
  },
  {
   "attachments": {},
   "cell_type": "markdown",
   "metadata": {},
   "source": [
    "#### Joining with airport information"
   ]
  },
  {
   "cell_type": "code",
   "execution_count": 5,
   "metadata": {},
   "outputs": [],
   "source": [
    "source_2_airports_df: pd.DataFrame = pd.read_csv(source_2_dir / 'airports.csv', encoding='latin-1')\n",
    "source_2_df = source_2_df.merge(source_2_airports_df[['iata', 'airport', 'city', 'state']], left_on='Origin', right_on='iata', how='left', suffixes=('', '_origin'))\n",
    "source_2_df = source_2_df.rename({\n",
    "    'iata': 'OriginIata', \n",
    "    'airport': 'OriginAirport', \n",
    "    'city': 'OriginCityName', \n",
    "    'state': 'OriginState'}, axis=1)\n",
    "source_2_df = source_2_df.merge(source_2_airports_df[['iata', 'airport', 'city', 'state']], left_on='Dest', right_on='iata', how='left', suffixes=('', '_dest'))\n",
    "source_2_df = source_2_df.rename({\n",
    "    'iata': 'DestIata',\n",
    "    'airport': 'DestAirport',\n",
    "    'city': 'DestCityName',\n",
    "    'state': 'DestState'}, axis=1)"
   ]
  },
  {
   "attachments": {},
   "cell_type": "markdown",
   "metadata": {},
   "source": [
    "### Joining with airline information"
   ]
  },
  {
   "cell_type": "code",
   "execution_count": 6,
   "metadata": {},
   "outputs": [],
   "source": [
    "source_2_carriers_df: pd.DataFrame = pd.read_csv(source_2_dir / 'carriers.csv', encoding='latin-1')\n",
    "source_2_carriers_df.set_index('Code', inplace=True)\n",
    "\n",
    "source_2_df['Airline'] = source_2_df['UniqueCarrier'].apply(lambda x: source_2_carriers_df.loc[x, 'Description'])"
   ]
  },
  {
   "attachments": {},
   "cell_type": "markdown",
   "metadata": {},
   "source": [
    "#### Renaming features to match the first source"
   ]
  },
  {
   "cell_type": "code",
   "execution_count": 7,
   "metadata": {},
   "outputs": [],
   "source": [
    "source_2_df.rename({'TailNum': 'Tail_Number'}, axis=1, inplace=True)"
   ]
  },
  {
   "attachments": {},
   "cell_type": "markdown",
   "metadata": {},
   "source": [
    "## Features unique to sources\n",
    "The following features are unique to the sources, and therefore will not be in the final dataset."
   ]
  },
  {
   "cell_type": "code",
   "execution_count": 8,
   "metadata": {},
   "outputs": [
    {
     "name": "stdout",
     "output_type": "stream",
     "text": [
      "DestStateFips\n",
      "SecurityDelay\n",
      "DepartureDelayGroups\n",
      "ArrTimeBlk\n",
      "OriginCityMarketID\n",
      "UniqueCarrier\n",
      "LateAircraftDelay\n",
      "DepDelayMinutes\n",
      "OriginAirportID\n",
      "DepDel15\n",
      "Marketing_Airline_Network\n",
      "WheelsOn\n",
      "DestIata\n",
      "OriginStateName\n",
      "OriginAirport\n",
      "DistanceGroup\n",
      "NASDelay\n",
      "FlightNum\n",
      "CarrierDelay\n",
      "OriginWac\n",
      "FlightDate\n",
      "WeatherDelay\n",
      "DestCityMarketID\n",
      "DestWac\n",
      "DestStateName\n",
      "ArrDelayMinutes\n",
      "Flight_Number_Operating_Airline\n",
      "OriginStateFips\n",
      "DepTimeBlk\n",
      "ArrivalDelayGroups\n",
      "IATA_Code_Operating_Airline\n",
      "DOT_ID_Marketing_Airline\n",
      "Operating_Airline\n",
      "Flight_Number_Marketing_Airline\n",
      "IATA_Code_Marketing_Airline\n",
      "DestAirportSeqID\n",
      "DestAirportID\n",
      "DOT_ID_Operating_Airline\n",
      "ArrDel15\n",
      "CancellationCode\n",
      "OriginIata\n",
      "Quarter\n",
      "DivAirportLandings\n",
      "Operated_or_Branded_Code_Share_Partners\n",
      "OriginAirportSeqID\n",
      "WheelsOff\n",
      "DestAirport\n"
     ]
    }
   ],
   "source": [
    "non_overlapping_features: set[str] = set(source_1_df.columns) ^ set(source_2_df.columns)\n",
    "print(\"\\n\".join(non_overlapping_features))"
   ]
  },
  {
   "attachments": {},
   "cell_type": "markdown",
   "metadata": {},
   "source": [
    "## Features present in both sources"
   ]
  },
  {
   "cell_type": "code",
   "execution_count": 9,
   "metadata": {},
   "outputs": [
    {
     "name": "stdout",
     "output_type": "stream",
     "text": [
      "DayofMonth\n",
      "ArrTime\n",
      "ArrDelay\n",
      "OriginCityName\n",
      "Dest\n",
      "Month\n",
      "DepTime\n",
      "CRSDepTime\n",
      "TaxiOut\n",
      "AirTime\n",
      "Origin\n",
      "Year\n",
      "CRSArrTime\n",
      "TaxiIn\n",
      "ActualElapsedTime\n",
      "Airline\n",
      "OriginState\n",
      "Tail_Number\n",
      "DestCityName\n",
      "DestState\n",
      "Diverted\n",
      "DepDelay\n",
      "CRSElapsedTime\n",
      "Distance\n",
      "Cancelled\n",
      "DayOfWeek\n"
     ]
    }
   ],
   "source": [
    "overlapping_features: set[str] = set(source_1_df.columns) & set(source_2_df.columns)\n",
    "print(\"\\n\".join(overlapping_features))"
   ]
  },
  {
   "attachments": {},
   "cell_type": "markdown",
   "metadata": {},
   "source": [
    "## Combining sources"
   ]
  },
  {
   "cell_type": "code",
   "execution_count": 10,
   "metadata": {},
   "outputs": [
    {
     "data": {
      "text/html": [
       "<div>\n",
       "<style scoped>\n",
       "    .dataframe tbody tr th:only-of-type {\n",
       "        vertical-align: middle;\n",
       "    }\n",
       "\n",
       "    .dataframe tbody tr th {\n",
       "        vertical-align: top;\n",
       "    }\n",
       "\n",
       "    .dataframe thead th {\n",
       "        text-align: right;\n",
       "    }\n",
       "</style>\n",
       "<table border=\"1\" class=\"dataframe\">\n",
       "  <thead>\n",
       "    <tr style=\"text-align: right;\">\n",
       "      <th></th>\n",
       "      <th>DayofMonth</th>\n",
       "      <th>ArrTime</th>\n",
       "      <th>ArrDelay</th>\n",
       "      <th>OriginCityName</th>\n",
       "      <th>Dest</th>\n",
       "      <th>Month</th>\n",
       "      <th>DepTime</th>\n",
       "      <th>CRSDepTime</th>\n",
       "      <th>TaxiOut</th>\n",
       "      <th>AirTime</th>\n",
       "      <th>...</th>\n",
       "      <th>OriginState</th>\n",
       "      <th>Tail_Number</th>\n",
       "      <th>DestCityName</th>\n",
       "      <th>DestState</th>\n",
       "      <th>Diverted</th>\n",
       "      <th>DepDelay</th>\n",
       "      <th>CRSElapsedTime</th>\n",
       "      <th>Distance</th>\n",
       "      <th>Cancelled</th>\n",
       "      <th>DayOfWeek</th>\n",
       "    </tr>\n",
       "  </thead>\n",
       "  <tbody>\n",
       "    <tr>\n",
       "      <th>0</th>\n",
       "      <td>23</td>\n",
       "      <td>1256.0</td>\n",
       "      <td>-8.0</td>\n",
       "      <td>Albany</td>\n",
       "      <td>ATL</td>\n",
       "      <td>1</td>\n",
       "      <td>1157.0</td>\n",
       "      <td>1202</td>\n",
       "      <td>14.0</td>\n",
       "      <td>38.0</td>\n",
       "      <td>...</td>\n",
       "      <td>GA</td>\n",
       "      <td>N8928A</td>\n",
       "      <td>Atlanta</td>\n",
       "      <td>GA</td>\n",
       "      <td>False</td>\n",
       "      <td>-5.0</td>\n",
       "      <td>62.0</td>\n",
       "      <td>145.0</td>\n",
       "      <td>False</td>\n",
       "      <td>2</td>\n",
       "    </tr>\n",
       "    <tr>\n",
       "      <th>1</th>\n",
       "      <td>24</td>\n",
       "      <td>1258.0</td>\n",
       "      <td>-6.0</td>\n",
       "      <td>Albany</td>\n",
       "      <td>ATL</td>\n",
       "      <td>1</td>\n",
       "      <td>1157.0</td>\n",
       "      <td>1202</td>\n",
       "      <td>13.0</td>\n",
       "      <td>36.0</td>\n",
       "      <td>...</td>\n",
       "      <td>GA</td>\n",
       "      <td>N800AY</td>\n",
       "      <td>Atlanta</td>\n",
       "      <td>GA</td>\n",
       "      <td>False</td>\n",
       "      <td>-5.0</td>\n",
       "      <td>62.0</td>\n",
       "      <td>145.0</td>\n",
       "      <td>False</td>\n",
       "      <td>3</td>\n",
       "    </tr>\n",
       "    <tr>\n",
       "      <th>2</th>\n",
       "      <td>25</td>\n",
       "      <td>1302.0</td>\n",
       "      <td>-2.0</td>\n",
       "      <td>Albany</td>\n",
       "      <td>ATL</td>\n",
       "      <td>1</td>\n",
       "      <td>1153.0</td>\n",
       "      <td>1202</td>\n",
       "      <td>18.0</td>\n",
       "      <td>40.0</td>\n",
       "      <td>...</td>\n",
       "      <td>GA</td>\n",
       "      <td>N8836A</td>\n",
       "      <td>Atlanta</td>\n",
       "      <td>GA</td>\n",
       "      <td>False</td>\n",
       "      <td>-9.0</td>\n",
       "      <td>62.0</td>\n",
       "      <td>145.0</td>\n",
       "      <td>False</td>\n",
       "      <td>4</td>\n",
       "    </tr>\n",
       "    <tr>\n",
       "      <th>3</th>\n",
       "      <td>26</td>\n",
       "      <td>1253.0</td>\n",
       "      <td>-11.0</td>\n",
       "      <td>Albany</td>\n",
       "      <td>ATL</td>\n",
       "      <td>1</td>\n",
       "      <td>1150.0</td>\n",
       "      <td>1202</td>\n",
       "      <td>17.0</td>\n",
       "      <td>35.0</td>\n",
       "      <td>...</td>\n",
       "      <td>GA</td>\n",
       "      <td>N800AY</td>\n",
       "      <td>Atlanta</td>\n",
       "      <td>GA</td>\n",
       "      <td>False</td>\n",
       "      <td>-12.0</td>\n",
       "      <td>62.0</td>\n",
       "      <td>145.0</td>\n",
       "      <td>False</td>\n",
       "      <td>5</td>\n",
       "    </tr>\n",
       "    <tr>\n",
       "      <th>4</th>\n",
       "      <td>27</td>\n",
       "      <td>1459.0</td>\n",
       "      <td>-1.0</td>\n",
       "      <td>Albany</td>\n",
       "      <td>ATL</td>\n",
       "      <td>1</td>\n",
       "      <td>1355.0</td>\n",
       "      <td>1400</td>\n",
       "      <td>17.0</td>\n",
       "      <td>36.0</td>\n",
       "      <td>...</td>\n",
       "      <td>GA</td>\n",
       "      <td>N8839E</td>\n",
       "      <td>Atlanta</td>\n",
       "      <td>GA</td>\n",
       "      <td>False</td>\n",
       "      <td>-5.0</td>\n",
       "      <td>60.0</td>\n",
       "      <td>145.0</td>\n",
       "      <td>False</td>\n",
       "      <td>6</td>\n",
       "    </tr>\n",
       "    <tr>\n",
       "      <th>...</th>\n",
       "      <td>...</td>\n",
       "      <td>...</td>\n",
       "      <td>...</td>\n",
       "      <td>...</td>\n",
       "      <td>...</td>\n",
       "      <td>...</td>\n",
       "      <td>...</td>\n",
       "      <td>...</td>\n",
       "      <td>...</td>\n",
       "      <td>...</td>\n",
       "      <td>...</td>\n",
       "      <td>...</td>\n",
       "      <td>...</td>\n",
       "      <td>...</td>\n",
       "      <td>...</td>\n",
       "      <td>...</td>\n",
       "      <td>...</td>\n",
       "      <td>...</td>\n",
       "      <td>...</td>\n",
       "      <td>...</td>\n",
       "      <td>...</td>\n",
       "    </tr>\n",
       "    <tr>\n",
       "      <th>148108235</th>\n",
       "      <td>12</td>\n",
       "      <td>2035.0</td>\n",
       "      <td>63.0</td>\n",
       "      <td>Covington</td>\n",
       "      <td>PHL</td>\n",
       "      <td>12</td>\n",
       "      <td>1858.0</td>\n",
       "      <td>1758</td>\n",
       "      <td>NaN</td>\n",
       "      <td>NaN</td>\n",
       "      <td>...</td>\n",
       "      <td>KY</td>\n",
       "      <td>NaN</td>\n",
       "      <td>Philadelphia</td>\n",
       "      <td>PA</td>\n",
       "      <td>0</td>\n",
       "      <td>60.0</td>\n",
       "      <td>94.0</td>\n",
       "      <td>507.0</td>\n",
       "      <td>0</td>\n",
       "      <td>2</td>\n",
       "    </tr>\n",
       "    <tr>\n",
       "      <th>148108236</th>\n",
       "      <td>13</td>\n",
       "      <td>1945.0</td>\n",
       "      <td>13.0</td>\n",
       "      <td>Covington</td>\n",
       "      <td>PHL</td>\n",
       "      <td>12</td>\n",
       "      <td>1807.0</td>\n",
       "      <td>1758</td>\n",
       "      <td>NaN</td>\n",
       "      <td>NaN</td>\n",
       "      <td>...</td>\n",
       "      <td>KY</td>\n",
       "      <td>NaN</td>\n",
       "      <td>Philadelphia</td>\n",
       "      <td>PA</td>\n",
       "      <td>0</td>\n",
       "      <td>9.0</td>\n",
       "      <td>94.0</td>\n",
       "      <td>507.0</td>\n",
       "      <td>0</td>\n",
       "      <td>3</td>\n",
       "    </tr>\n",
       "    <tr>\n",
       "      <th>148108237</th>\n",
       "      <td>14</td>\n",
       "      <td>1923.0</td>\n",
       "      <td>-9.0</td>\n",
       "      <td>Covington</td>\n",
       "      <td>PHL</td>\n",
       "      <td>12</td>\n",
       "      <td>1758.0</td>\n",
       "      <td>1758</td>\n",
       "      <td>NaN</td>\n",
       "      <td>NaN</td>\n",
       "      <td>...</td>\n",
       "      <td>KY</td>\n",
       "      <td>NaN</td>\n",
       "      <td>Philadelphia</td>\n",
       "      <td>PA</td>\n",
       "      <td>0</td>\n",
       "      <td>0.0</td>\n",
       "      <td>94.0</td>\n",
       "      <td>507.0</td>\n",
       "      <td>0</td>\n",
       "      <td>4</td>\n",
       "    </tr>\n",
       "    <tr>\n",
       "      <th>148108238</th>\n",
       "      <td>15</td>\n",
       "      <td>1937.0</td>\n",
       "      <td>7.0</td>\n",
       "      <td>Covington</td>\n",
       "      <td>PHL</td>\n",
       "      <td>12</td>\n",
       "      <td>1810.0</td>\n",
       "      <td>1800</td>\n",
       "      <td>NaN</td>\n",
       "      <td>NaN</td>\n",
       "      <td>...</td>\n",
       "      <td>KY</td>\n",
       "      <td>NaN</td>\n",
       "      <td>Philadelphia</td>\n",
       "      <td>PA</td>\n",
       "      <td>0</td>\n",
       "      <td>10.0</td>\n",
       "      <td>90.0</td>\n",
       "      <td>507.0</td>\n",
       "      <td>0</td>\n",
       "      <td>5</td>\n",
       "    </tr>\n",
       "    <tr>\n",
       "      <th>148108239</th>\n",
       "      <td>17</td>\n",
       "      <td>1926.0</td>\n",
       "      <td>-4.0</td>\n",
       "      <td>Covington</td>\n",
       "      <td>PHL</td>\n",
       "      <td>12</td>\n",
       "      <td>1800.0</td>\n",
       "      <td>1800</td>\n",
       "      <td>NaN</td>\n",
       "      <td>NaN</td>\n",
       "      <td>...</td>\n",
       "      <td>KY</td>\n",
       "      <td>NaN</td>\n",
       "      <td>Philadelphia</td>\n",
       "      <td>PA</td>\n",
       "      <td>0</td>\n",
       "      <td>0.0</td>\n",
       "      <td>90.0</td>\n",
       "      <td>507.0</td>\n",
       "      <td>0</td>\n",
       "      <td>7</td>\n",
       "    </tr>\n",
       "  </tbody>\n",
       "</table>\n",
       "<p>148108240 rows × 26 columns</p>\n",
       "</div>"
      ],
      "text/plain": [
       "           DayofMonth  ArrTime  ArrDelay OriginCityName Dest  Month  DepTime  \\\n",
       "0                  23   1256.0      -8.0         Albany  ATL      1   1157.0   \n",
       "1                  24   1258.0      -6.0         Albany  ATL      1   1157.0   \n",
       "2                  25   1302.0      -2.0         Albany  ATL      1   1153.0   \n",
       "3                  26   1253.0     -11.0         Albany  ATL      1   1150.0   \n",
       "4                  27   1459.0      -1.0         Albany  ATL      1   1355.0   \n",
       "...               ...      ...       ...            ...  ...    ...      ...   \n",
       "148108235          12   2035.0      63.0      Covington  PHL     12   1858.0   \n",
       "148108236          13   1945.0      13.0      Covington  PHL     12   1807.0   \n",
       "148108237          14   1923.0      -9.0      Covington  PHL     12   1758.0   \n",
       "148108238          15   1937.0       7.0      Covington  PHL     12   1810.0   \n",
       "148108239          17   1926.0      -4.0      Covington  PHL     12   1800.0   \n",
       "\n",
       "           CRSDepTime  TaxiOut  AirTime  ... OriginState  Tail_Number  \\\n",
       "0                1202     14.0     38.0  ...          GA       N8928A   \n",
       "1                1202     13.0     36.0  ...          GA       N800AY   \n",
       "2                1202     18.0     40.0  ...          GA       N8836A   \n",
       "3                1202     17.0     35.0  ...          GA       N800AY   \n",
       "4                1400     17.0     36.0  ...          GA       N8839E   \n",
       "...               ...      ...      ...  ...         ...          ...   \n",
       "148108235        1758      NaN      NaN  ...          KY          NaN   \n",
       "148108236        1758      NaN      NaN  ...          KY          NaN   \n",
       "148108237        1758      NaN      NaN  ...          KY          NaN   \n",
       "148108238        1800      NaN      NaN  ...          KY          NaN   \n",
       "148108239        1800      NaN      NaN  ...          KY          NaN   \n",
       "\n",
       "           DestCityName  DestState  Diverted DepDelay CRSElapsedTime Distance  \\\n",
       "0               Atlanta         GA     False     -5.0           62.0    145.0   \n",
       "1               Atlanta         GA     False     -5.0           62.0    145.0   \n",
       "2               Atlanta         GA     False     -9.0           62.0    145.0   \n",
       "3               Atlanta         GA     False    -12.0           62.0    145.0   \n",
       "4               Atlanta         GA     False     -5.0           60.0    145.0   \n",
       "...                 ...        ...       ...      ...            ...      ...   \n",
       "148108235  Philadelphia         PA         0     60.0           94.0    507.0   \n",
       "148108236  Philadelphia         PA         0      9.0           94.0    507.0   \n",
       "148108237  Philadelphia         PA         0      0.0           94.0    507.0   \n",
       "148108238  Philadelphia         PA         0     10.0           90.0    507.0   \n",
       "148108239  Philadelphia         PA         0      0.0           90.0    507.0   \n",
       "\n",
       "          Cancelled DayOfWeek  \n",
       "0             False         2  \n",
       "1             False         3  \n",
       "2             False         4  \n",
       "3             False         5  \n",
       "4             False         6  \n",
       "...             ...       ...  \n",
       "148108235         0         2  \n",
       "148108236         0         3  \n",
       "148108237         0         4  \n",
       "148108238         0         5  \n",
       "148108239         0         7  \n",
       "\n",
       "[148108240 rows x 26 columns]"
      ]
     },
     "execution_count": 10,
     "metadata": {},
     "output_type": "execute_result"
    }
   ],
   "source": [
    "data_df: pd.DataFrame = pd.concat([source_1_df[list(overlapping_features)], source_2_df[list(overlapping_features)]], ignore_index=True)\n",
    "\n",
    "data_df"
   ]
  },
  {
   "attachments": {},
   "cell_type": "markdown",
   "metadata": {},
   "source": [
    "## Convert column types"
   ]
  },
  {
   "cell_type": "code",
   "execution_count": 11,
   "metadata": {},
   "outputs": [
    {
     "name": "stdout",
     "output_type": "stream",
     "text": [
      "<class 'pandas.core.frame.DataFrame'>\n",
      "RangeIndex: 148108240 entries, 0 to 148108239\n",
      "Data columns (total 26 columns):\n",
      " #   Column             Dtype  \n",
      "---  ------             -----  \n",
      " 0   DayofMonth         int64  \n",
      " 1   ArrTime            float64\n",
      " 2   ArrDelay           float64\n",
      " 3   OriginCityName     object \n",
      " 4   Dest               object \n",
      " 5   Month              int64  \n",
      " 6   DepTime            float64\n",
      " 7   CRSDepTime         int64  \n",
      " 8   TaxiOut            float64\n",
      " 9   AirTime            float64\n",
      " 10  Origin             object \n",
      " 11  Year               int64  \n",
      " 12  CRSArrTime         int64  \n",
      " 13  TaxiIn             float64\n",
      " 14  ActualElapsedTime  float64\n",
      " 15  Airline            object \n",
      " 16  OriginState        object \n",
      " 17  Tail_Number        object \n",
      " 18  DestCityName       object \n",
      " 19  DestState          object \n",
      " 20  Diverted           object \n",
      " 21  DepDelay           float64\n",
      " 22  CRSElapsedTime     float64\n",
      " 23  Distance           float64\n",
      " 24  Cancelled          object \n",
      " 25  DayOfWeek          int64  \n",
      "dtypes: float64(10), int64(6), object(10)\n",
      "memory usage: 28.7+ GB\n"
     ]
    }
   ],
   "source": [
    "data_df.info()"
   ]
  },
  {
   "attachments": {},
   "cell_type": "markdown",
   "metadata": {},
   "source": [
    "### Boolean columns"
   ]
  },
  {
   "attachments": {},
   "cell_type": "markdown",
   "metadata": {},
   "source": [
    "We suspect that the columns Diverted and Cancelled only contain boolean values.\n",
    "We confirm it by using `value_counts()` and convert them to boolean type."
   ]
  },
  {
   "cell_type": "code",
   "execution_count": 12,
   "metadata": {},
   "outputs": [
    {
     "data": {
      "text/plain": [
       "False    147767298\n",
       "True        340942\n",
       "Name: Diverted, dtype: int64"
      ]
     },
     "execution_count": 12,
     "metadata": {},
     "output_type": "execute_result"
    }
   ],
   "source": [
    "data_df['Diverted'].value_counts()"
   ]
  },
  {
   "cell_type": "code",
   "execution_count": 13,
   "metadata": {},
   "outputs": [
    {
     "data": {
      "text/plain": [
       "False    145100641\n",
       "True       3007599\n",
       "Name: Cancelled, dtype: int64"
      ]
     },
     "execution_count": 13,
     "metadata": {},
     "output_type": "execute_result"
    }
   ],
   "source": [
    "data_df['Cancelled'].value_counts()"
   ]
  },
  {
   "cell_type": "code",
   "execution_count": 14,
   "metadata": {},
   "outputs": [],
   "source": [
    "boolean_columns: list[str] = ['Diverted', 'Cancelled']\n",
    "\n",
    "for column in boolean_columns:\n",
    "    data_df[column] = data_df[column].astype(\"bool\")"
   ]
  },
  {
   "cell_type": "code",
   "execution_count": 15,
   "metadata": {},
   "outputs": [
    {
     "name": "stdout",
     "output_type": "stream",
     "text": [
      "<class 'pandas.core.frame.DataFrame'>\n",
      "RangeIndex: 148108240 entries, 0 to 148108239\n",
      "Data columns (total 26 columns):\n",
      " #   Column             Dtype  \n",
      "---  ------             -----  \n",
      " 0   DayofMonth         int64  \n",
      " 1   ArrTime            float64\n",
      " 2   ArrDelay           float64\n",
      " 3   OriginCityName     object \n",
      " 4   Dest               object \n",
      " 5   Month              int64  \n",
      " 6   DepTime            float64\n",
      " 7   CRSDepTime         int64  \n",
      " 8   TaxiOut            float64\n",
      " 9   AirTime            float64\n",
      " 10  Origin             object \n",
      " 11  Year               int64  \n",
      " 12  CRSArrTime         int64  \n",
      " 13  TaxiIn             float64\n",
      " 14  ActualElapsedTime  float64\n",
      " 15  Airline            object \n",
      " 16  OriginState        object \n",
      " 17  Tail_Number        object \n",
      " 18  DestCityName       object \n",
      " 19  DestState          object \n",
      " 20  Diverted           bool   \n",
      " 21  DepDelay           float64\n",
      " 22  CRSElapsedTime     float64\n",
      " 23  Distance           float64\n",
      " 24  Cancelled          bool   \n",
      " 25  DayOfWeek          int64  \n",
      "dtypes: bool(2), float64(10), int64(6), object(8)\n",
      "memory usage: 26.8+ GB\n"
     ]
    }
   ],
   "source": [
    "data_df.info()"
   ]
  },
  {
   "attachments": {},
   "cell_type": "markdown",
   "metadata": {},
   "source": [
    "### Categorical columns"
   ]
  },
  {
   "cell_type": "code",
   "execution_count": 16,
   "metadata": {},
   "outputs": [],
   "source": [
    "categorical_columns: list[str] = ['DayOfWeek', 'OriginCityName', 'OriginState', \n",
    "                                  'DestState', 'Tail_Number', 'Dest', 'DayofMonth', \n",
    "                                  'Airline', 'DestCityName', 'Origin', 'Year', 'Month']\n",
    "                                \n",
    "for column in categorical_columns:\n",
    "    data_df[column] = data_df[column].astype(\"category\")"
   ]
  },
  {
   "cell_type": "code",
   "execution_count": 17,
   "metadata": {},
   "outputs": [
    {
     "name": "stdout",
     "output_type": "stream",
     "text": [
      "<class 'pandas.core.frame.DataFrame'>\n",
      "RangeIndex: 148108240 entries, 0 to 148108239\n",
      "Data columns (total 26 columns):\n",
      " #   Column             Dtype   \n",
      "---  ------             -----   \n",
      " 0   DayofMonth         category\n",
      " 1   ArrTime            float64 \n",
      " 2   ArrDelay           float64 \n",
      " 3   OriginCityName     category\n",
      " 4   Dest               category\n",
      " 5   Month              category\n",
      " 6   DepTime            float64 \n",
      " 7   CRSDepTime         int64   \n",
      " 8   TaxiOut            float64 \n",
      " 9   AirTime            float64 \n",
      " 10  Origin             category\n",
      " 11  Year               category\n",
      " 12  CRSArrTime         int64   \n",
      " 13  TaxiIn             float64 \n",
      " 14  ActualElapsedTime  float64 \n",
      " 15  Airline            category\n",
      " 16  OriginState        category\n",
      " 17  Tail_Number        category\n",
      " 18  DestCityName       category\n",
      " 19  DestState          category\n",
      " 20  Diverted           bool    \n",
      " 21  DepDelay           float64 \n",
      " 22  CRSElapsedTime     float64 \n",
      " 23  Distance           float64 \n",
      " 24  Cancelled          bool    \n",
      " 25  DayOfWeek          category\n",
      "dtypes: bool(2), category(12), float64(10), int64(2)\n",
      "memory usage: 15.9 GB\n"
     ]
    }
   ],
   "source": [
    "data_df.info()"
   ]
  },
  {
   "cell_type": "code",
   "execution_count": null,
   "metadata": {},
   "outputs": [],
   "source": [
    "data_df.info()"
   ]
  },
  {
   "cell_type": "code",
   "execution_count": 20,
   "metadata": {},
   "outputs": [
    {
     "name": "stdout",
     "output_type": "stream",
     "text": [
      "<class 'pandas.core.frame.DataFrame'>\n",
      "RangeIndex: 148108240 entries, 0 to 148108239\n",
      "Data columns (total 26 columns):\n",
      " #   Column             Dtype   \n",
      "---  ------             -----   \n",
      " 0   DayofMonth         category\n",
      " 1   ArrTime            float64 \n",
      " 2   ArrDelay           float64 \n",
      " 3   OriginCityName     category\n",
      " 4   Dest               category\n",
      " 5   Month              category\n",
      " 6   DepTime            float64 \n",
      " 7   CRSDepTime         uint16  \n",
      " 8   TaxiOut            float64 \n",
      " 9   AirTime            float64 \n",
      " 10  Origin             category\n",
      " 11  Year               category\n",
      " 12  CRSArrTime         uint16  \n",
      " 13  TaxiIn             float64 \n",
      " 14  ActualElapsedTime  float64 \n",
      " 15  Airline            category\n",
      " 16  OriginState        category\n",
      " 17  Tail_Number        category\n",
      " 18  DestCityName       category\n",
      " 19  DestState          category\n",
      " 20  Diverted           bool    \n",
      " 21  DepDelay           float64 \n",
      " 22  CRSElapsedTime     float64 \n",
      " 23  Distance           float64 \n",
      " 24  Cancelled          bool    \n",
      " 25  DayOfWeek          category\n",
      "dtypes: bool(2), category(12), float64(10), uint16(2)\n",
      "memory usage: 14.2 GB\n"
     ]
    }
   ],
   "source": [
    "data_df.info()"
   ]
  },
  {
   "attachments": {},
   "cell_type": "markdown",
   "metadata": {},
   "source": [
    "## Save the combined dataset"
   ]
  },
  {
   "cell_type": "code",
   "execution_count": 21,
   "metadata": {},
   "outputs": [],
   "source": [
    "data_df.to_parquet('../datasets/raw/combined.parquet')"
   ]
  }
 ],
 "metadata": {
  "kernelspec": {
   "display_name": "CS4020",
   "language": "python",
   "name": "python3"
  },
  "language_info": {
   "codemirror_mode": {
    "name": "ipython",
    "version": 3
   },
   "file_extension": ".py",
   "mimetype": "text/x-python",
   "name": "python",
   "nbconvert_exporter": "python",
   "pygments_lexer": "ipython3",
   "version": "3.9.15"
  },
  "orig_nbformat": 4
 },
 "nbformat": 4,
 "nbformat_minor": 2
}
